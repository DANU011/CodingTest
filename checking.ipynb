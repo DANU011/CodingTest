{
 "cells": [
  {
   "cell_type": "code",
   "id": "initial_id",
   "metadata": {
    "collapsed": true,
    "ExecuteTime": {
     "end_time": "2025-06-06T05:52:09.138550Z",
     "start_time": "2025-06-06T05:52:06.714776Z"
    }
   },
   "source": [
    "import pandas as pd\n",
    "\n",
    "df = pd.read_csv('time_sample_filtered.csv')\n",
    "\n",
    "df.shape[1]"
   ],
   "outputs": [
    {
     "data": {
      "text/plain": [
       "92"
      ]
     },
     "execution_count": 2,
     "metadata": {},
     "output_type": "execute_result"
    }
   ],
   "execution_count": 2
  },
  {
   "metadata": {
    "ExecuteTime": {
     "end_time": "2025-06-06T06:48:42.812661Z",
     "start_time": "2025-06-06T06:48:42.801646Z"
    }
   },
   "cell_type": "code",
   "source": "df.dtypes",
   "id": "f475be3a7e0308c9",
   "outputs": [
    {
     "data": {
      "text/plain": [
       "customer_id       object\n",
       "소지카드수_유효_신용        int64\n",
       "입회경과개월수_신용         int64\n",
       "탈회횟수_누적            int64\n",
       "탈회횟수_발급6개월이내       int64\n",
       "                   ...  \n",
       "시장연체상환여부_R3M_0      bool\n",
       "시장단기연체여부_R3M_0      bool\n",
       "시장단기연체여부_R3M_1      bool\n",
       "최종연체회차_-9999        bool\n",
       "최종연체회차_0            bool\n",
       "Length: 92, dtype: object"
      ]
     },
     "execution_count": 4,
     "metadata": {},
     "output_type": "execute_result"
    }
   ],
   "execution_count": 4
  },
  {
   "metadata": {},
   "cell_type": "markdown",
   "source": "데이터셋 컬럼수 정상",
   "id": "d69443e589ea70b1"
  },
  {
   "metadata": {
    "ExecuteTime": {
     "end_time": "2025-06-06T06:02:21.363582Z",
     "start_time": "2025-06-06T06:02:21.121195Z"
    }
   },
   "cell_type": "code",
   "source": [
    "df_meta = pd.read_csv('meta_merged_balanced.csv')\n",
    "\n",
    "df_meta.shape[1]"
   ],
   "id": "5056bfdaf0abc6a",
   "outputs": [
    {
     "data": {
      "text/plain": [
       "59"
      ]
     },
     "execution_count": 3,
     "metadata": {},
     "output_type": "execute_result"
    }
   ],
   "execution_count": 3
  },
  {
   "metadata": {
    "ExecuteTime": {
     "end_time": "2025-06-08T13:15:20.456428Z",
     "start_time": "2025-06-08T13:15:20.407489Z"
    }
   },
   "cell_type": "code",
   "source": [
    "import pandas as pd\n",
    "from sklearn.metrics import accuracy_score\n",
    "\n",
    "# CSV 파일 불러오기\n",
    "filename = \"val_preds_201807_201812_20250608_012201.csv\"\n",
    "df = pd.read_csv(filename)\n",
    "\n",
    "# 0.5 기준으로 이진화\n",
    "df['y_pred_binary'] = (df['y_pred'] >= 0.5).astype(int)\n",
    "\n",
    "# 전체 정확도\n",
    "accuracy = accuracy_score(df['y_true'], df['y_pred_binary'])\n",
    "\n",
    "# 1을 1로 맞춘 비율 (TPR)\n",
    "tp = df[(df['y_true'] == 1) & (df['y_pred_binary'] == 1)].shape[0]\n",
    "total_1 = df[df['y_true'] == 1].shape[0]\n",
    "tpr = tp / total_1 if total_1 > 0 else 0\n",
    "\n",
    "# 0을 0으로 맞춘 비율 (TNR)\n",
    "tn = df[(df['y_true'] == 0) & (df['y_pred_binary'] == 0)].shape[0]\n",
    "total_0 = df[df['y_true'] == 0].shape[0]\n",
    "tnr = tn / total_0 if total_0 > 0 else 0\n",
    "\n",
    "# 출력\n",
    "print(f\"전체 정확도 (Accuracy): {accuracy:.4f}\")\n",
    "print(f\"1을 1로 맞춘 비율 (True Positive Rate, TPR): {tpr:.4f}\")\n",
    "print(f\"0을 0으로 맞춘 비율 (True Negative Rate, TNR): {tnr:.4f}\")\n"
   ],
   "id": "b5714f854ea1a2a9",
   "outputs": [
    {
     "name": "stdout",
     "output_type": "stream",
     "text": [
      "전체 정확도 (Accuracy): 0.6552\n",
      "1을 1로 맞춘 비율 (True Positive Rate, TPR): 0.8960\n",
      "0을 0으로 맞춘 비율 (True Negative Rate, TNR): 0.4144\n"
     ]
    }
   ],
   "execution_count": 4
  },
  {
   "metadata": {},
   "cell_type": "code",
   "outputs": [],
   "execution_count": null,
   "source": "",
   "id": "9ce0073ba0b35858"
  }
 ],
 "metadata": {
  "kernelspec": {
   "display_name": "Python 3",
   "language": "python",
   "name": "python3"
  },
  "language_info": {
   "codemirror_mode": {
    "name": "ipython",
    "version": 2
   },
   "file_extension": ".py",
   "mimetype": "text/x-python",
   "name": "python",
   "nbconvert_exporter": "python",
   "pygments_lexer": "ipython2",
   "version": "2.7.6"
  }
 },
 "nbformat": 4,
 "nbformat_minor": 5
}
